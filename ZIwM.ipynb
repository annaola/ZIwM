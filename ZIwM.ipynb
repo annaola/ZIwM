{
 "cells": [
  {
   "cell_type": "markdown",
   "metadata": {
    "colab_type": "text",
    "id": "view-in-github"
   },
   "source": [
    "<a href=\"https://colab.research.google.com/github/annaola/ZIwM/blob/master/ZIwM.ipynb\" target=\"_parent\"><img src=\"https://colab.research.google.com/assets/colab-badge.svg\" alt=\"Open In Colab\"/></a>"
   ]
  },
  {
   "cell_type": "markdown",
   "metadata": {},
   "source": [
    "# Przygotowanie danych"
   ]
  },
  {
   "cell_type": "code",
   "execution_count": null,
   "metadata": {
    "colab": {},
    "colab_type": "code",
    "id": "LjiHQADcg2ZG"
   },
   "outputs": [],
   "source": [
    "pip install pandas_ods_reader"
   ]
  },
  {
   "cell_type": "code",
   "execution_count": null,
   "metadata": {},
   "outputs": [],
   "source": [
    "import numpy as np\n",
    "import pandas as pd \n",
    "import matplotlib.pyplot as plt\n",
    "import seaborn as sns\n",
    "from pandas_ods_reader import read_ods\n",
    "from sklearn.feature_selection import SelectKBest, chi2\n",
    "from scipy.stats import mode\n",
    "# pd.options.display.max_columns = None"
   ]
  },
  {
   "cell_type": "markdown",
   "metadata": {},
   "source": [
    "## Pobieranie danych"
   ]
  },
  {
   "cell_type": "code",
   "execution_count": null,
   "metadata": {},
   "outputs": [],
   "source": [
    "features = [\"Koncentracja hemoglobiny\", \"Liczba erytrocytów\", \"Średnia objętość krwinki\", \"Średnie stężenie HB w krwince\", \"Wielkość erytrocytów\", \"Rodzaj erytrocytów\", \"Tkanka siateczkowata\", \"Szpik kostny\", \"Wielkość komórki\", \"Stosunek jądrowo-cytoplazmatyczny\", \"Rodzaj jądra\", \"Struktura chromatyny jądrowej\", \"Jąderko\", \"Pasożyty\", \"Ziarenka żelaza\", \"Poziom żelaza\", \"Poziom trwałych związków żelaza\", \"Poziom witaminy B\", \"Poziom kwasu foliowego\", \"Nieznana\", \"Reakcja odporonościowa\", \"Reakcja uro...\", \"Reakcja ruchliwości komórki\", \"Płeć\", \"Wiek\", \"Gorączka\", \"Krwawienie\", \"Skóra\", \"Węzły chłonne\", \"Szmery sercowe\", \"Wątroba, śledziona\", \"Klasa choroby\"]\n",
    "df = read_ods('./Anemia_dane/ANEMIA.ods', 1, columns=features)\n",
    "df.astype(int)"
   ]
  },
  {
   "cell_type": "markdown",
   "metadata": {},
   "source": [
    "## Podział danych na zbiór przykładów i ich klasy"
   ]
  },
  {
   "cell_type": "code",
   "execution_count": null,
   "metadata": {},
   "outputs": [],
   "source": [
    "training_set = df.loc[:, features[0]:features[30]]\n",
    "classes = df.loc[:, features[31]]"
   ]
  },
  {
   "cell_type": "markdown",
   "metadata": {},
   "source": [
    "### Rozkład wartosci cech dla wszystkich przykładów"
   ]
  },
  {
   "cell_type": "code",
   "execution_count": null,
   "metadata": {},
   "outputs": [],
   "source": [
    "training_set.describe()"
   ]
  },
  {
   "cell_type": "markdown",
   "metadata": {},
   "source": [
    "### Rozkład wartosci cech z podziałem na choroby"
   ]
  },
  {
   "cell_type": "code",
   "execution_count": null,
   "metadata": {},
   "outputs": [],
   "source": [
    "training_set_by_sikness = training_set.groupby(classes)\n",
    "training_set_by_sikness.describe()"
   ]
  },
  {
   "cell_type": "code",
   "execution_count": null,
   "metadata": {},
   "outputs": [],
   "source": [
    "training_set_by_sikness.agg(pd.Series.mode)"
   ]
  },
  {
   "cell_type": "markdown",
   "metadata": {},
   "source": [
    "# Ranking cech"
   ]
  },
  {
   "cell_type": "code",
   "execution_count": null,
   "metadata": {},
   "outputs": [],
   "source": [
    "chi2_stats, chi2_p = chi2(training_set, classes)\n",
    "df_rank = pd.DataFrame(chi2_stats, training_set.columns).sort_values(0, ascending=False)\n",
    "df_rank.round(2)"
   ]
  },
  {
   "cell_type": "markdown",
   "metadata": {},
   "source": [
    "### Macierz korelacji"
   ]
  },
  {
   "cell_type": "code",
   "execution_count": null,
   "metadata": {},
   "outputs": [],
   "source": [
    "data_corelated = df.corr()>=0.6\n",
    "for c in data_corelated.columns:\n",
    "    print(\"---- %s ---\" % c)\n",
    "    print(data_corelated[c].value_counts())"
   ]
  },
  {
   "cell_type": "code",
   "execution_count": null,
   "metadata": {},
   "outputs": [],
   "source": [
    "df.corr()"
   ]
  },
  {
   "cell_type": "markdown",
   "metadata": {},
   "source": [
    "# Tworzenie klasyfikatora i jego walidacja"
   ]
  },
  {
   "cell_type": "code",
   "execution_count": null,
   "metadata": {},
   "outputs": [],
   "source": [
    "from sklearn.model_selection import RepeatedStratifiedKFold\n",
    "from sklearn.neural_network import MLPClassifier\n",
    "from sklearn.metrics import accuracy_score\n",
    "from sklearn import preprocessing\n",
    "\n",
    "def verifyClassifierWithParams(dataset, classes, layer_size, solver, momentum=0.0):\n",
    "    # Można róznież poeksperymentować z różnymi funkcjami aktywacji\n",
    "    classifier = MLPClassifier(hidden_layer_sizes=(layer_size, ), solver=solver, momentum=momentum, max_iter=10000)\n",
    "    cross_validator = RepeatedStratifiedKFold(n_splits=2, n_repeats=5, random_state=7890)\n",
    "    scores = []\n",
    "\n",
    "    for train_index, test_index in cross_validator.split(dataset, classes):\n",
    "        X_train, X_test = dataset[train_index, : ], dataset[test_index, : ]\n",
    "        y_train, y_test = classes.loc[train_index], classes.loc[test_index]\n",
    "        classifier.fit(X_train, y_train)\n",
    "        predict = classifier.predict(X_test)\n",
    "        acc_score = accuracy_score(y_test, predict)\n",
    "        scores.append(acc_score)\n",
    "\n",
    "    mean_score = np.mean(scores)\n",
    "    std_score = np.std(scores)\n",
    "    print(\"Accuracy score: %.3f (%.3f)\" % (mean_score, std_score))\n",
    "    return mean_score"
   ]
  },
  {
   "cell_type": "code",
   "execution_count": null,
   "metadata": {
    "scrolled": false
   },
   "outputs": [],
   "source": [
    "layer_sizes = [15, 100, 300]\n",
    "results_lbfgs = {\"Number of features\": [], \"Layer size\": [], \"Result\": []}\n",
    "results_sgd = {\"Number of features\": [], \"Layer size\": [], \"Result\": []}\n",
    "\n",
    "# klasyfikator osiąga najlepsze wyniki dla 7-8 cech, w dalszej przyszłości można zacząć sprawdzanie od 1 cechy\n",
    "for k in range(5, 11):\n",
    "#     Sprawdzanie accuracy dla optymalizatora wag 'lbfgs' - teoretycznie najlepszy dla zbiorów o wielkości zbliżonej do naszego, nie używa momentum\n",
    "    for size in layer_sizes:\n",
    "        train_set = SelectKBest(chi2, k=k).fit_transform(training_set, classes)\n",
    "        print(\"------ Parametry: liczba cech = {}, layer_size = {}, solver='lbfgs'\".format(k, size))\n",
    "        results_lbfgs[\"Number of features\"].append(k)\n",
    "        results_lbfgs[\"Layer size\"].append(size)\n",
    "        results_lbfgs[\"Result\"].append(verifyClassifierWithParams(preprocessing.scale(train_set), classes, size, 'lbfgs'))\n",
    "        \n",
    "# Sprawdzanie accuracy dla optymalizatora wag 'sgd' i momentum 0.8\n",
    "    for size in layer_sizes:\n",
    "            print(\"------ Parametry: liczba cech = {}, layer_size = {}, solver='sgd'\".format(k, size))\n",
    "            results_sgd[\"Number of features\"].append(k)\n",
    "            results_sgd[\"Layer size\"].append(size)\n",
    "            results_sgd[\"Result\"].append(verifyClassifierWithParams(train_set, classes, size, 'sgd', 0.8))"
   ]
  },
  {
   "cell_type": "code",
   "execution_count": null,
   "metadata": {},
   "outputs": [],
   "source": [
    "grid = sns.FacetGrid(pd.DataFrame(results_lbfgs), col=\"Layer size\", col_wrap=4)\n",
    "grid.map(plt.plot, \"Number of features\", \"Result\")"
   ]
  },
  {
   "cell_type": "code",
   "execution_count": null,
   "metadata": {},
   "outputs": [],
   "source": [
    "grid = sns.FacetGrid(pd.DataFrame(results_sgd), col=\"Layer size\", col_wrap=4)\n",
    "grid.map(plt.plot, \"Number of features\", \"Result\")"
   ]
  },
  {
   "cell_type": "code",
   "execution_count": null,
   "metadata": {},
   "outputs": [],
   "source": []
  }
 ],
 "metadata": {
  "colab": {
   "authorship_tag": "ABX9TyNmVlpSgnYIl8pPWBYy0dE1",
   "include_colab_link": true,
   "name": "ZIwM.ipynb",
   "provenance": []
  },
  "kernelspec": {
   "display_name": "Python 3",
   "language": "python",
   "name": "python3"
  },
  "language_info": {
   "codemirror_mode": {
    "name": "ipython",
    "version": 3
   },
   "file_extension": ".py",
   "mimetype": "text/x-python",
   "name": "python",
   "nbconvert_exporter": "python",
   "pygments_lexer": "ipython3",
   "version": "3.7.6"
  }
 },
 "nbformat": 4,
 "nbformat_minor": 1
}
